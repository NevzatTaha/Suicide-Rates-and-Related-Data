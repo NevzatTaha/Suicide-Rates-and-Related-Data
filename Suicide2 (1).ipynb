{
 "cells": [
  {
   "cell_type": "code",
   "execution_count": 53,
   "id": "33fd4f3b",
   "metadata": {},
   "outputs": [],
   "source": [
    "import numpy as np\n",
    "import pandas as pd\n",
    "import matplotlib.pyplot as plt\n",
    "import seaborn as sns\n",
    "import scipy.stats\n",
    "import statsmodels.api as sm\n",
    "\n",
    "\n"
   ]
  },
  {
   "cell_type": "code",
   "execution_count": 54,
   "id": "0be3343c",
   "metadata": {},
   "outputs": [],
   "source": [
    "location1=r\"C:\\Users\\nevta\\Desktop\\Datasets\\suicide\\Age-standardized suicide rates.csv\"\n",
    "df=pd.read_csv(location1)"
   ]
  },
  {
   "cell_type": "code",
   "execution_count": 55,
   "id": "83025117",
   "metadata": {},
   "outputs": [
    {
     "data": {
      "text/html": [
       "<div>\n",
       "<style scoped>\n",
       "    .dataframe tbody tr th:only-of-type {\n",
       "        vertical-align: middle;\n",
       "    }\n",
       "\n",
       "    .dataframe tbody tr th {\n",
       "        vertical-align: top;\n",
       "    }\n",
       "\n",
       "    .dataframe thead th {\n",
       "        text-align: right;\n",
       "    }\n",
       "</style>\n",
       "<table border=\"1\" class=\"dataframe\">\n",
       "  <thead>\n",
       "    <tr style=\"text-align: right;\">\n",
       "      <th></th>\n",
       "      <th>Country</th>\n",
       "      <th>Sex</th>\n",
       "      <th>2016</th>\n",
       "      <th>2015</th>\n",
       "      <th>2010</th>\n",
       "      <th>2000</th>\n",
       "    </tr>\n",
       "  </thead>\n",
       "  <tbody>\n",
       "    <tr>\n",
       "      <th>0</th>\n",
       "      <td>Afghanistan</td>\n",
       "      <td>Both sexes</td>\n",
       "      <td>6.4</td>\n",
       "      <td>6.6</td>\n",
       "      <td>7.4</td>\n",
       "      <td>8.1</td>\n",
       "    </tr>\n",
       "    <tr>\n",
       "      <th>1</th>\n",
       "      <td>Afghanistan</td>\n",
       "      <td>Male</td>\n",
       "      <td>10.6</td>\n",
       "      <td>10.9</td>\n",
       "      <td>12.5</td>\n",
       "      <td>14.3</td>\n",
       "    </tr>\n",
       "    <tr>\n",
       "      <th>2</th>\n",
       "      <td>Afghanistan</td>\n",
       "      <td>Female</td>\n",
       "      <td>2.1</td>\n",
       "      <td>2.1</td>\n",
       "      <td>2.1</td>\n",
       "      <td>1.7</td>\n",
       "    </tr>\n",
       "    <tr>\n",
       "      <th>3</th>\n",
       "      <td>Albania</td>\n",
       "      <td>Both sexes</td>\n",
       "      <td>5.6</td>\n",
       "      <td>5.3</td>\n",
       "      <td>7.7</td>\n",
       "      <td>5.8</td>\n",
       "    </tr>\n",
       "    <tr>\n",
       "      <th>4</th>\n",
       "      <td>Albania</td>\n",
       "      <td>Male</td>\n",
       "      <td>7.0</td>\n",
       "      <td>6.7</td>\n",
       "      <td>9.5</td>\n",
       "      <td>8.2</td>\n",
       "    </tr>\n",
       "  </tbody>\n",
       "</table>\n",
       "</div>"
      ],
      "text/plain": [
       "       Country          Sex  2016  2015  2010  2000\n",
       "0  Afghanistan   Both sexes   6.4   6.6   7.4   8.1\n",
       "1  Afghanistan         Male  10.6  10.9  12.5  14.3\n",
       "2  Afghanistan       Female   2.1   2.1   2.1   1.7\n",
       "3      Albania   Both sexes   5.6   5.3   7.7   5.8\n",
       "4      Albania         Male   7.0   6.7   9.5   8.2"
      ]
     },
     "execution_count": 55,
     "metadata": {},
     "output_type": "execute_result"
    }
   ],
   "source": [
    "df.head()"
   ]
  },
  {
   "cell_type": "markdown",
   "id": "47c2e8a7",
   "metadata": {},
   "source": [
    "First data is about age standardized suicide rates for different years."
   ]
  },
  {
   "cell_type": "code",
   "execution_count": 56,
   "id": "38adf9c1",
   "metadata": {},
   "outputs": [
    {
     "data": {
      "text/plain": [
       "406    48.3\n",
       "289    47.5\n",
       "211    46.6\n",
       "256    40.1\n",
       "43     39.3\n",
       "469    36.1\n",
       "511    34.5\n",
       "281    32.6\n",
       "118    32.0\n",
       "157    31.3\n",
       "Name: 2016, dtype: float64"
      ]
     },
     "execution_count": 56,
     "metadata": {},
     "output_type": "execute_result"
    }
   ],
   "source": [
    "df[\"2016\"].nlargest(n=10)"
   ]
  },
  {
   "cell_type": "code",
   "execution_count": 57,
   "id": "6764ee8d",
   "metadata": {},
   "outputs": [
    {
     "name": "stdout",
     "output_type": "stream",
     "text": [
      "<class 'pandas.core.frame.DataFrame'>\n",
      "RangeIndex: 549 entries, 0 to 548\n",
      "Data columns (total 6 columns):\n",
      " #   Column   Non-Null Count  Dtype  \n",
      "---  ------   --------------  -----  \n",
      " 0   Country  549 non-null    object \n",
      " 1   Sex      549 non-null    object \n",
      " 2   2016     549 non-null    float64\n",
      " 3   2015     549 non-null    float64\n",
      " 4   2010     549 non-null    float64\n",
      " 5   2000     549 non-null    float64\n",
      "dtypes: float64(4), object(2)\n",
      "memory usage: 25.9+ KB\n"
     ]
    }
   ],
   "source": [
    "df.info()"
   ]
  },
  {
   "cell_type": "markdown",
   "id": "586a149e",
   "metadata": {},
   "source": [
    "# Visualization"
   ]
  },
  {
   "cell_type": "code",
   "execution_count": 58,
   "id": "08383009",
   "metadata": {},
   "outputs": [
    {
     "data": {
      "text/plain": [
       "Country    Afghanistan\n",
       "Sex         Both sexes\n",
       "2016               0.0\n",
       "2015               0.0\n",
       "2010               0.0\n",
       "2000               0.1\n",
       "dtype: object"
      ]
     },
     "execution_count": 58,
     "metadata": {},
     "output_type": "execute_result"
    }
   ],
   "source": [
    "df.min()"
   ]
  },
  {
   "cell_type": "code",
   "execution_count": 59,
   "id": "45497ffb",
   "metadata": {},
   "outputs": [
    {
     "data": {
      "image/png": "[encoded data removed]",
      "text/plain": [
       "<Figure size 432x288 with 1 Axes>"
      ]
     },
     "metadata": {
      "needs_background": "light"
     },
     "output_type": "display_data"
    }
   ],
   "source": [
    "ax=sns.barplot(x=\"Sex\",y=\"2016\",data=df)\n"
   ]
  },
  {
   "cell_type": "code",
   "execution_count": 60,
   "id": "ebb0cce3",
   "metadata": {},
   "outputs": [
    {
     "data": {
      "text/plain": [
       "(array([160., 165., 112.,  57.,  32.,   9.,   7.,   2.,   2.,   3.]),\n",
       " array([ 0.  ,  4.83,  9.66, 14.49, 19.32, 24.15, 28.98, 33.81, 38.64,\n",
       "        43.47, 48.3 ]),\n",
       " <BarContainer object of 10 artists>)"
      ]
     },
     "execution_count": 60,
     "metadata": {},
     "output_type": "execute_result"
    },
    {
     "data": {
      "image/png": "[encoded data removed]",
      "text/plain": [
       "<Figure size 432x288 with 1 Axes>"
      ]
     },
     "metadata": {
      "needs_background": "light"
     },
     "output_type": "display_data"
    }
   ],
   "source": [
    "plt.hist(df[\"2016\"])"
   ]
  },
  {
   "cell_type": "code",
   "execution_count": 61,
   "id": "43428410",
   "metadata": {},
   "outputs": [
    {
     "data": {
      "image/png": "[encoded data removed]",
      "text/plain": [
       "<Figure size 432x288 with 1 Axes>"
      ]
     },
     "metadata": {
      "needs_background": "light"
     },
     "output_type": "display_data"
    }
   ],
   "source": [
    "ax=sns.barplot(x=\"Sex\",y=\"2010\",data=df)"
   ]
  },
  {
   "cell_type": "code",
   "execution_count": 62,
   "id": "8fe194b4",
   "metadata": {},
   "outputs": [
    {
     "data": {
      "image/png": "[encoded data removed]",
      "text/plain": [
       "<Figure size 432x288 with 1 Axes>"
      ]
     },
     "metadata": {
      "needs_background": "light"
     },
     "output_type": "display_data"
    }
   ],
   "source": [
    "ax=sns.barplot(x=\"Sex\",y=\"2015\",data=df)"
   ]
  },
  {
   "cell_type": "markdown",
   "id": "d4d450c0",
   "metadata": {},
   "source": [
    " I want to work for the specific sex. Hence I will take the one that mean value is higher than other, Male."
   ]
  },
  {
   "cell_type": "markdown",
   "id": "bfb2ab70",
   "metadata": {},
   "source": [
    "Also, 2016 is an important year for me because the nex dataframework contains data that has been in 2016."
   ]
  },
  {
   "cell_type": "code",
   "execution_count": 63,
   "id": "a46aac50",
   "metadata": {},
   "outputs": [
    {
     "name": "stderr",
     "output_type": "stream",
     "text": [
      "C:\\Users\\nevta\\anaconda3\\lib\\site-packages\\seaborn\\distributions.py:2619: FutureWarning: `distplot` is a deprecated function and will be removed in a future version. Please adapt your code to use either `displot` (a figure-level function with similar flexibility) or `histplot` (an axes-level function for histograms).\n",
      "  warnings.warn(msg, FutureWarning)\n"
     ]
    },
    {
     "data": {
      "text/plain": [
       "[Text(0.5, 0, 'Normal Distribution'), Text(0, 0.5, 'Frequency')]"
      ]
     },
     "execution_count": 63,
     "metadata": {},
     "output_type": "execute_result"
    },
    {
     "data": {
      "image/png": "[encoded data removed]",
      "text/plain": [
       "<Figure size 432x288 with 1 Axes>"
      ]
     },
     "metadata": {
      "needs_background": "light"
     },
     "output_type": "display_data"
    }
   ],
   "source": [
    "ax = sns.distplot(df['2016'],bins=20,kde=True,color='red',hist_kws={\"linewidth\": 15,'alpha':1})\n",
    "ax.set(xlabel='Normal Distribution', ylabel='Frequency')\n",
    "#Assume it is a normally distributed"
   ]
  },
  {
   "cell_type": "code",
   "execution_count": 64,
   "id": "ca6564a6",
   "metadata": {},
   "outputs": [],
   "source": [
    "#I reorganized column.\n",
    "df[\"Sex\"]=df[\"Sex\"].str.strip()"
   ]
  },
  {
   "cell_type": "code",
   "execution_count": 65,
   "id": "a57e74bb",
   "metadata": {},
   "outputs": [
    {
     "data": {
      "text/plain": [
       "LeveneResult(statistic=41.26579028485126, pvalue=2.0431118804932987e-17)"
      ]
     },
     "execution_count": 65,
     "metadata": {},
     "output_type": "execute_result"
    }
   ],
   "source": [
    "#Although I see that there are statistical differences between gender, I will use levene test to control whether their variance is equal or not\n",
    "#H0=Gender have no statistical differences in terms of their variance.\n",
    "scipy.stats.levene(df[df[\"Sex\"]==\"Female\"][\"2016\"],\n",
    "                   df[df[\"Sex\"]==\"Male\"][\"2016\"],\n",
    "                   df[df[\"Sex\"]==\"Both sexes\"][\"2016\"], center=\"mean\")\n",
    "#reject the hypothesis because p value is lower than 0.05"
   ]
  },
  {
   "cell_type": "code",
   "execution_count": 66,
   "id": "dcbc2c4c",
   "metadata": {},
   "outputs": [],
   "source": [
    "Female=df[df[\"Sex\"]==\"Female\"][\"2016\"]\n",
    "Male= df[df[\"Sex\"]==\"Male\"][\"2016\"]\n",
    "Both=df[df[\"Sex\"]==\"Both sexes\"][\"2016\"]\n"
   ]
  },
  {
   "cell_type": "code",
   "execution_count": 67,
   "id": "481bbcbd",
   "metadata": {},
   "outputs": [
    {
     "name": "stdout",
     "output_type": "stream",
     "text": [
      "f statistic:101.35017263417895,P value:3.69401231168017e-38\n"
     ]
    }
   ],
   "source": [
    "#H0=There is no differences between gender about suicide rates in 2016   \n",
    "fstatistic, pvalue= scipy.stats.f_oneway(Female,Male,Both)\n",
    "print(\"f statistic:{0},P value:{1}\".format(fstatistic,pvalue))\n",
    "#Reject the null hypothesis because p value is lower than 0.05\n",
    "#I have just wanted to show there are differences between gender about suicide rates because I will use one sex for some parts of the my project.                   "
   ]
  },
  {
   "cell_type": "markdown",
   "id": "e31b7a6f",
   "metadata": {},
   "source": [
    "# Second Dataset"
   ]
  },
  {
   "cell_type": "markdown",
   "id": "e48132d9",
   "metadata": {},
   "source": [
    "Second data is about suicide rates(year 2016) per 100000 population in different age range."
   ]
  },
  {
   "cell_type": "code",
   "execution_count": 68,
   "id": "cc7a88c1",
   "metadata": {},
   "outputs": [
    {
     "data": {
      "text/html": [
       "<div>\n",
       "<style scoped>\n",
       "    .dataframe tbody tr th:only-of-type {\n",
       "        vertical-align: middle;\n",
       "    }\n",
       "\n",
       "    .dataframe tbody tr th {\n",
       "        vertical-align: top;\n",
       "    }\n",
       "\n",
       "    .dataframe thead th {\n",
       "        text-align: right;\n",
       "    }\n",
       "</style>\n",
       "<table border=\"1\" class=\"dataframe\">\n",
       "  <thead>\n",
       "    <tr style=\"text-align: right;\">\n",
       "      <th></th>\n",
       "      <th>Country</th>\n",
       "      <th>Sex</th>\n",
       "      <th>80_above</th>\n",
       "      <th>70to79</th>\n",
       "      <th>60to69</th>\n",
       "      <th>50to59</th>\n",
       "      <th>40to49</th>\n",
       "      <th>30to39</th>\n",
       "      <th>20to29</th>\n",
       "      <th>10to19</th>\n",
       "    </tr>\n",
       "  </thead>\n",
       "  <tbody>\n",
       "    <tr>\n",
       "      <th>0</th>\n",
       "      <td>Afghanistan</td>\n",
       "      <td>Both sexes</td>\n",
       "      <td>42.0</td>\n",
       "      <td>11.0</td>\n",
       "      <td>5.5</td>\n",
       "      <td>5.6</td>\n",
       "      <td>6.6</td>\n",
       "      <td>9.2</td>\n",
       "      <td>10.2</td>\n",
       "      <td>3.1</td>\n",
       "    </tr>\n",
       "    <tr>\n",
       "      <th>1</th>\n",
       "      <td>Afghanistan</td>\n",
       "      <td>Male</td>\n",
       "      <td>70.4</td>\n",
       "      <td>20.9</td>\n",
       "      <td>9.8</td>\n",
       "      <td>9.3</td>\n",
       "      <td>10.5</td>\n",
       "      <td>15.1</td>\n",
       "      <td>16.3</td>\n",
       "      <td>4.8</td>\n",
       "    </tr>\n",
       "    <tr>\n",
       "      <th>2</th>\n",
       "      <td>Afghanistan</td>\n",
       "      <td>Female</td>\n",
       "      <td>20.1</td>\n",
       "      <td>2.3</td>\n",
       "      <td>1.4</td>\n",
       "      <td>1.6</td>\n",
       "      <td>2.3</td>\n",
       "      <td>2.7</td>\n",
       "      <td>3.5</td>\n",
       "      <td>1.2</td>\n",
       "    </tr>\n",
       "    <tr>\n",
       "      <th>3</th>\n",
       "      <td>Albania</td>\n",
       "      <td>Both sexes</td>\n",
       "      <td>16.3</td>\n",
       "      <td>8.3</td>\n",
       "      <td>6.0</td>\n",
       "      <td>7.8</td>\n",
       "      <td>9.1</td>\n",
       "      <td>6.1</td>\n",
       "      <td>6.5</td>\n",
       "      <td>5.0</td>\n",
       "    </tr>\n",
       "    <tr>\n",
       "      <th>4</th>\n",
       "      <td>Albania</td>\n",
       "      <td>Male</td>\n",
       "      <td>23.2</td>\n",
       "      <td>11.9</td>\n",
       "      <td>8.1</td>\n",
       "      <td>11.4</td>\n",
       "      <td>13.5</td>\n",
       "      <td>8.8</td>\n",
       "      <td>6.3</td>\n",
       "      <td>3.1</td>\n",
       "    </tr>\n",
       "    <tr>\n",
       "      <th>...</th>\n",
       "      <td>...</td>\n",
       "      <td>...</td>\n",
       "      <td>...</td>\n",
       "      <td>...</td>\n",
       "      <td>...</td>\n",
       "      <td>...</td>\n",
       "      <td>...</td>\n",
       "      <td>...</td>\n",
       "      <td>...</td>\n",
       "      <td>...</td>\n",
       "    </tr>\n",
       "    <tr>\n",
       "      <th>544</th>\n",
       "      <td>Zambia</td>\n",
       "      <td>Male</td>\n",
       "      <td>152.1</td>\n",
       "      <td>79.0</td>\n",
       "      <td>38.7</td>\n",
       "      <td>27.3</td>\n",
       "      <td>17.0</td>\n",
       "      <td>13.3</td>\n",
       "      <td>12.3</td>\n",
       "      <td>3.9</td>\n",
       "    </tr>\n",
       "    <tr>\n",
       "      <th>545</th>\n",
       "      <td>Zambia</td>\n",
       "      <td>Female</td>\n",
       "      <td>31.2</td>\n",
       "      <td>26.4</td>\n",
       "      <td>16.0</td>\n",
       "      <td>11.2</td>\n",
       "      <td>6.9</td>\n",
       "      <td>4.6</td>\n",
       "      <td>4.2</td>\n",
       "      <td>1.6</td>\n",
       "    </tr>\n",
       "    <tr>\n",
       "      <th>546</th>\n",
       "      <td>Zimbabwe</td>\n",
       "      <td>Both sexes</td>\n",
       "      <td>205.7</td>\n",
       "      <td>81.5</td>\n",
       "      <td>41.3</td>\n",
       "      <td>29.4</td>\n",
       "      <td>19.2</td>\n",
       "      <td>13.7</td>\n",
       "      <td>11.3</td>\n",
       "      <td>4.6</td>\n",
       "    </tr>\n",
       "    <tr>\n",
       "      <th>547</th>\n",
       "      <td>Zimbabwe</td>\n",
       "      <td>Male</td>\n",
       "      <td>285.0</td>\n",
       "      <td>111.5</td>\n",
       "      <td>62.8</td>\n",
       "      <td>47.0</td>\n",
       "      <td>30.1</td>\n",
       "      <td>22.8</td>\n",
       "      <td>19.1</td>\n",
       "      <td>6.4</td>\n",
       "    </tr>\n",
       "    <tr>\n",
       "      <th>548</th>\n",
       "      <td>Zimbabwe</td>\n",
       "      <td>Female</td>\n",
       "      <td>152.4</td>\n",
       "      <td>59.4</td>\n",
       "      <td>26.4</td>\n",
       "      <td>16.0</td>\n",
       "      <td>9.4</td>\n",
       "      <td>5.5</td>\n",
       "      <td>3.8</td>\n",
       "      <td>2.7</td>\n",
       "    </tr>\n",
       "  </tbody>\n",
       "</table>\n",
       "<p>549 rows × 10 columns</p>\n",
       "</div>"
      ],
      "text/plain": [
       "         Country          Sex  80_above  70to79  60to69  50to59   40to49  \\\n",
       "0    Afghanistan   Both sexes      42.0    11.0     5.5      5.6     6.6   \n",
       "1    Afghanistan         Male      70.4    20.9     9.8      9.3    10.5   \n",
       "2    Afghanistan       Female      20.1     2.3     1.4      1.6     2.3   \n",
       "3        Albania   Both sexes      16.3     8.3     6.0      7.8     9.1   \n",
       "4        Albania         Male      23.2    11.9     8.1     11.4    13.5   \n",
       "..           ...          ...       ...     ...     ...      ...     ...   \n",
       "544       Zambia         Male     152.1    79.0    38.7     27.3    17.0   \n",
       "545       Zambia       Female      31.2    26.4    16.0     11.2     6.9   \n",
       "546     Zimbabwe   Both sexes     205.7    81.5    41.3     29.4    19.2   \n",
       "547     Zimbabwe         Male     285.0   111.5    62.8     47.0    30.1   \n",
       "548     Zimbabwe       Female     152.4    59.4    26.4     16.0     9.4   \n",
       "\n",
       "     30to39  20to29  10to19  \n",
       "0       9.2    10.2     3.1  \n",
       "1      15.1    16.3     4.8  \n",
       "2       2.7     3.5     1.2  \n",
       "3       6.1     6.5     5.0  \n",
       "4       8.8     6.3     3.1  \n",
       "..      ...     ...     ...  \n",
       "544    13.3    12.3     3.9  \n",
       "545     4.6     4.2     1.6  \n",
       "546    13.7    11.3     4.6  \n",
       "547    22.8    19.1     6.4  \n",
       "548     5.5     3.8     2.7  \n",
       "\n",
       "[549 rows x 10 columns]"
      ]
     },
     "execution_count": 68,
     "metadata": {},
     "output_type": "execute_result"
    }
   ],
   "source": [
    "# I will get a second data\n",
    "location2=r\"C:\\Users\\nevta\\Desktop\\Datasets\\suicide\\Crude suicide rates.csv\"\n",
    "df2=pd.read_csv(location2)\n",
    "df2"
   ]
  },
  {
   "cell_type": "code",
   "execution_count": 69,
   "id": "76cc6c63",
   "metadata": {},
   "outputs": [
    {
     "name": "stdout",
     "output_type": "stream",
     "text": [
      "<class 'pandas.core.frame.DataFrame'>\n",
      "RangeIndex: 549 entries, 0 to 548\n",
      "Data columns (total 10 columns):\n",
      " #   Column    Non-Null Count  Dtype  \n",
      "---  ------    --------------  -----  \n",
      " 0   Country   549 non-null    object \n",
      " 1   Sex       549 non-null    object \n",
      " 2   80_above  549 non-null    float64\n",
      " 3   70to79    549 non-null    float64\n",
      " 4   60to69    549 non-null    float64\n",
      " 5   50to59    549 non-null    float64\n",
      " 6   40to49    549 non-null    float64\n",
      " 7   30to39    549 non-null    float64\n",
      " 8   20to29    549 non-null    float64\n",
      " 9   10to19    549 non-null    float64\n",
      "dtypes: float64(8), object(2)\n",
      "memory usage: 43.0+ KB\n"
     ]
    }
   ],
   "source": [
    "df2.info()"
   ]
  },
  {
   "cell_type": "code",
   "execution_count": 70,
   "id": "e17c16c9",
   "metadata": {},
   "outputs": [],
   "source": [
    "df2[\"Sex\"]=df2[\"Sex\"].str.strip()\n",
    "\n",
    "\n",
    "\n"
   ]
  },
  {
   "cell_type": "code",
   "execution_count": 71,
   "id": "ae0081ea",
   "metadata": {},
   "outputs": [
    {
     "name": "stdout",
     "output_type": "stream",
     "text": [
      "['Country', 'Sex', '80_above', '70to79', '60to69', '50to59 ', '40to49', '30to39', '20to29', '10to19']\n"
     ]
    }
   ],
   "source": [
    "print(df2.columns.tolist())\n",
    "#Hence, I need to be careful for the column names"
   ]
  },
  {
   "cell_type": "code",
   "execution_count": 72,
   "id": "483610d3",
   "metadata": {},
   "outputs": [],
   "source": [
    "dict={\"index\":[1,2,3,4,5,6,7,8],\n",
    "      \"Categories\":[\"10to10\",\"20to29\",\"30to39\",\"40to49\",\"50to59 \",\"60to69\",\"70to79\",\"80_above\"],\n",
    "            \"sum\":[df2[df2[\"Sex\"]==\"Male\"][\"10to19\"].sum(),\n",
    "                   df2[df2[\"Sex\"]==\"Male\"][\"20to29\"].sum(),\n",
    "                   df2[df2[\"Sex\"]==\"Male\"][\"30to39\"].sum(),\n",
    "                   df2[df2[\"Sex\"]==\"Male\"][\"40to49\"].sum(),\n",
    "                   df2[df2[\"Sex\"]==\"Male\"][\"50to59 \"].sum(),\n",
    "                   df2[df2[\"Sex\"]==\"Male\"][\"60to69\"].sum(),\n",
    "                   df2[df2[\"Sex\"]==\"Male\"][\"70to79\"].sum(),\n",
    "                   df2[df2[\"Sex\"]==\"Male\"][\"80_above\"].sum()]}"
   ]
  },
  {
   "cell_type": "code",
   "execution_count": 73,
   "id": "2caa7fde",
   "metadata": {},
   "outputs": [
    {
     "data": {
      "text/html": [
       "<div>\n",
       "<style scoped>\n",
       "    .dataframe tbody tr th:only-of-type {\n",
       "        vertical-align: middle;\n",
       "    }\n",
       "\n",
       "    .dataframe tbody tr th {\n",
       "        vertical-align: top;\n",
       "    }\n",
       "\n",
       "    .dataframe thead th {\n",
       "        text-align: right;\n",
       "    }\n",
       "</style>\n",
       "<table border=\"1\" class=\"dataframe\">\n",
       "  <thead>\n",
       "    <tr style=\"text-align: right;\">\n",
       "      <th></th>\n",
       "      <th>index</th>\n",
       "      <th>Categories</th>\n",
       "      <th>sum</th>\n",
       "    </tr>\n",
       "  </thead>\n",
       "  <tbody>\n",
       "    <tr>\n",
       "      <th>0</th>\n",
       "      <td>1</td>\n",
       "      <td>10to10</td>\n",
       "      <td>967.9</td>\n",
       "    </tr>\n",
       "    <tr>\n",
       "      <th>1</th>\n",
       "      <td>2</td>\n",
       "      <td>20to29</td>\n",
       "      <td>2878.0</td>\n",
       "    </tr>\n",
       "    <tr>\n",
       "      <th>2</th>\n",
       "      <td>3</td>\n",
       "      <td>30to39</td>\n",
       "      <td>3074.6</td>\n",
       "    </tr>\n",
       "    <tr>\n",
       "      <th>3</th>\n",
       "      <td>4</td>\n",
       "      <td>40to49</td>\n",
       "      <td>3437.9</td>\n",
       "    </tr>\n",
       "    <tr>\n",
       "      <th>4</th>\n",
       "      <td>5</td>\n",
       "      <td>50to59</td>\n",
       "      <td>4053.4</td>\n",
       "    </tr>\n",
       "    <tr>\n",
       "      <th>5</th>\n",
       "      <td>6</td>\n",
       "      <td>60to69</td>\n",
       "      <td>4624.6</td>\n",
       "    </tr>\n",
       "    <tr>\n",
       "      <th>6</th>\n",
       "      <td>7</td>\n",
       "      <td>70to79</td>\n",
       "      <td>6863.5</td>\n",
       "    </tr>\n",
       "    <tr>\n",
       "      <th>7</th>\n",
       "      <td>8</td>\n",
       "      <td>80_above</td>\n",
       "      <td>11804.3</td>\n",
       "    </tr>\n",
       "  </tbody>\n",
       "</table>\n",
       "</div>"
      ],
      "text/plain": [
       "   index Categories      sum\n",
       "0      1     10to10    967.9\n",
       "1      2     20to29   2878.0\n",
       "2      3     30to39   3074.6\n",
       "3      4     40to49   3437.9\n",
       "4      5    50to59    4053.4\n",
       "5      6     60to69   4624.6\n",
       "6      7     70to79   6863.5\n",
       "7      8   80_above  11804.3"
      ]
     },
     "execution_count": 73,
     "metadata": {},
     "output_type": "execute_result"
    }
   ],
   "source": [
    "data = pd.DataFrame(dict)\n",
    "data"
   ]
  },
  {
   "cell_type": "code",
   "execution_count": 75,
   "id": "e9250a7d",
   "metadata": {},
   "outputs": [
    {
     "data": {
      "image/png": "[encoded data removed]",
      "text/plain": [
       "<Figure size 432x288 with 1 Axes>"
      ]
     },
     "metadata": {
      "needs_background": "light"
     },
     "output_type": "display_data"
    }
   ],
   "source": [
    "ax=sns.lineplot(data=dict, x=\"Categories\", y=\"sum\")"
   ]
  },
  {
   "cell_type": "markdown",
   "id": "a4bd2065",
   "metadata": {},
   "source": [
    "We can argue that there is a clear dependency to ages for male in suicide rates because when ages go up, rates also go up.\n"
   ]
  },
  {
   "cell_type": "code",
   "execution_count": 78,
   "id": "4434822e",
   "metadata": {},
   "outputs": [
    {
     "data": {
      "image/png": "[encoded data removed]",
      "text/plain": [
       "<Figure size 432x288 with 1 Axes>"
      ]
     },
     "metadata": {
      "needs_background": "light"
     },
     "output_type": "display_data"
    }
   ],
   "source": [
    "#Indeed, albeit there is a clear that there is a correlation between suicide rates and their ages in Male,we need to look in a statistical way.\n",
    "ax=sns.scatterplot(x=\"Categories\",y=\"sum\", data=dict)"
   ]
  },
  {
   "cell_type": "code",
   "execution_count": 80,
   "id": "47ed4d07",
   "metadata": {},
   "outputs": [
    {
     "data": {
      "text/plain": [
       "(0.8881070349307462, 0.003214928363740306)"
      ]
     },
     "execution_count": 80,
     "metadata": {},
     "output_type": "execute_result"
    }
   ],
   "source": [
    "\n",
    "#H0=There is no correlation between ages and suicide rates in male\n",
    "#a=0.05\n",
    "scipy.stats.pearsonr(dict[\"index\"],dict[\"sum\"])\n",
    "#reject the null hypothesis, and there is a strong correlation."
   ]
  },
  {
   "cell_type": "code",
   "execution_count": 81,
   "id": "dae2d96d",
   "metadata": {},
   "outputs": [
    {
     "data": {
      "text/plain": [
       "Country     183\n",
       "Sex           3\n",
       "80_above    389\n",
       "70to79      345\n",
       "60to69      309\n",
       "50to59      283\n",
       "40to49      247\n",
       "30to39      223\n",
       "20to29      216\n",
       "10to19      121\n",
       "dtype: int64"
      ]
     },
     "execution_count": 81,
     "metadata": {},
     "output_type": "execute_result"
    }
   ],
   "source": [
    "df2.nunique()"
   ]
  },
  {
   "cell_type": "markdown",
   "id": "702670e5",
   "metadata": {},
   "source": [
    "# Data Sets 3"
   ]
  },
  {
   "cell_type": "markdown",
   "id": "53d31bbc",
   "metadata": {},
   "source": [
    "Facilities available year 2016\n",
    "\n",
    "Mental hospitals (per 100 000 population),\n",
    "Mental health units in general hospitals (per 100 000 population),\n",
    "Mental health outpatient facilities (per 100 000 population),\n",
    "Mental health day treatment facilities (per 100 000 population),\n",
    "Community residential facilities (per 100 000 population).\n"
   ]
  },
  {
   "cell_type": "code",
   "execution_count": 83,
   "id": "a49da4ab",
   "metadata": {},
   "outputs": [
    {
     "data": {
      "text/html": [
       "<div>\n",
       "<style scoped>\n",
       "    .dataframe tbody tr th:only-of-type {\n",
       "        vertical-align: middle;\n",
       "    }\n",
       "\n",
       "    .dataframe tbody tr th {\n",
       "        vertical-align: top;\n",
       "    }\n",
       "\n",
       "    .dataframe thead th {\n",
       "        text-align: right;\n",
       "    }\n",
       "</style>\n",
       "<table border=\"1\" class=\"dataframe\">\n",
       "  <thead>\n",
       "    <tr style=\"text-align: right;\">\n",
       "      <th></th>\n",
       "      <th>Country</th>\n",
       "      <th>Year</th>\n",
       "      <th>Mental _hospitals</th>\n",
       "      <th>health_units</th>\n",
       "      <th>outpatient _facilities</th>\n",
       "      <th>day _treatment</th>\n",
       "      <th>residential_facilities</th>\n",
       "    </tr>\n",
       "  </thead>\n",
       "  <tbody>\n",
       "    <tr>\n",
       "      <th>0</th>\n",
       "      <td>Afghanistan</td>\n",
       "      <td>2016</td>\n",
       "      <td>0.003</td>\n",
       "      <td>0.012</td>\n",
       "      <td>0.006</td>\n",
       "      <td>NaN</td>\n",
       "      <td>NaN</td>\n",
       "    </tr>\n",
       "    <tr>\n",
       "      <th>1</th>\n",
       "      <td>Albania</td>\n",
       "      <td>2016</td>\n",
       "      <td>0.068</td>\n",
       "      <td>0.068</td>\n",
       "      <td>0.410</td>\n",
       "      <td>NaN</td>\n",
       "      <td>0.445</td>\n",
       "    </tr>\n",
       "    <tr>\n",
       "      <th>2</th>\n",
       "      <td>Algeria</td>\n",
       "      <td>2016</td>\n",
       "      <td>0.048</td>\n",
       "      <td>0.068</td>\n",
       "      <td>0.048</td>\n",
       "      <td>NaN</td>\n",
       "      <td>NaN</td>\n",
       "    </tr>\n",
       "    <tr>\n",
       "      <th>3</th>\n",
       "      <td>Angola</td>\n",
       "      <td>2016</td>\n",
       "      <td>0.011</td>\n",
       "      <td>NaN</td>\n",
       "      <td>NaN</td>\n",
       "      <td>NaN</td>\n",
       "      <td>0.014</td>\n",
       "    </tr>\n",
       "    <tr>\n",
       "      <th>4</th>\n",
       "      <td>Antigua and Barbuda</td>\n",
       "      <td>2016</td>\n",
       "      <td>1.001</td>\n",
       "      <td>NaN</td>\n",
       "      <td>NaN</td>\n",
       "      <td>NaN</td>\n",
       "      <td>NaN</td>\n",
       "    </tr>\n",
       "    <tr>\n",
       "      <th>...</th>\n",
       "      <td>...</td>\n",
       "      <td>...</td>\n",
       "      <td>...</td>\n",
       "      <td>...</td>\n",
       "      <td>...</td>\n",
       "      <td>...</td>\n",
       "      <td>...</td>\n",
       "    </tr>\n",
       "    <tr>\n",
       "      <th>107</th>\n",
       "      <td>Vanuatu</td>\n",
       "      <td>2016</td>\n",
       "      <td>NaN</td>\n",
       "      <td>0.756</td>\n",
       "      <td>2.645</td>\n",
       "      <td>NaN</td>\n",
       "      <td>NaN</td>\n",
       "    </tr>\n",
       "    <tr>\n",
       "      <th>108</th>\n",
       "      <td>Viet Nam</td>\n",
       "      <td>2016</td>\n",
       "      <td>0.043</td>\n",
       "      <td>0.017</td>\n",
       "      <td>0.009</td>\n",
       "      <td>NaN</td>\n",
       "      <td>NaN</td>\n",
       "    </tr>\n",
       "    <tr>\n",
       "      <th>109</th>\n",
       "      <td>Yemen</td>\n",
       "      <td>2016</td>\n",
       "      <td>0.033</td>\n",
       "      <td>0.026</td>\n",
       "      <td>0.063</td>\n",
       "      <td>NaN</td>\n",
       "      <td>NaN</td>\n",
       "    </tr>\n",
       "    <tr>\n",
       "      <th>110</th>\n",
       "      <td>Zambia</td>\n",
       "      <td>2016</td>\n",
       "      <td>0.062</td>\n",
       "      <td>0.062</td>\n",
       "      <td>0.205</td>\n",
       "      <td>NaN</td>\n",
       "      <td>0.019</td>\n",
       "    </tr>\n",
       "    <tr>\n",
       "      <th>111</th>\n",
       "      <td>Zimbabwe</td>\n",
       "      <td>2016</td>\n",
       "      <td>0.025</td>\n",
       "      <td>0.025</td>\n",
       "      <td>0.057</td>\n",
       "      <td>0.006</td>\n",
       "      <td>0.051</td>\n",
       "    </tr>\n",
       "  </tbody>\n",
       "</table>\n",
       "<p>112 rows × 7 columns</p>\n",
       "</div>"
      ],
      "text/plain": [
       "                 Country  Year  Mental _hospitals  health_units  \\\n",
       "0            Afghanistan  2016              0.003         0.012   \n",
       "1                Albania  2016              0.068         0.068   \n",
       "2                Algeria  2016              0.048         0.068   \n",
       "3                 Angola  2016              0.011           NaN   \n",
       "4    Antigua and Barbuda  2016              1.001           NaN   \n",
       "..                   ...   ...                ...           ...   \n",
       "107              Vanuatu  2016                NaN         0.756   \n",
       "108             Viet Nam  2016              0.043         0.017   \n",
       "109                Yemen  2016              0.033         0.026   \n",
       "110               Zambia  2016              0.062         0.062   \n",
       "111             Zimbabwe  2016              0.025         0.025   \n",
       "\n",
       "     outpatient _facilities  day _treatment  residential_facilities  \n",
       "0                     0.006             NaN                     NaN  \n",
       "1                     0.410             NaN                   0.445  \n",
       "2                     0.048             NaN                     NaN  \n",
       "3                       NaN             NaN                   0.014  \n",
       "4                       NaN             NaN                     NaN  \n",
       "..                      ...             ...                     ...  \n",
       "107                   2.645             NaN                     NaN  \n",
       "108                   0.009             NaN                     NaN  \n",
       "109                   0.063             NaN                     NaN  \n",
       "110                   0.205             NaN                   0.019  \n",
       "111                   0.057           0.006                   0.051  \n",
       "\n",
       "[112 rows x 7 columns]"
      ]
     },
     "execution_count": 83,
     "metadata": {},
     "output_type": "execute_result"
    }
   ],
   "source": [
    "location=r\"C:\\Users\\nevta\\Desktop\\Datasets\\suicide\\Facilities.csv\"\n",
    "df3=pd.read_csv(location)\n",
    "df3"
   ]
  },
  {
   "cell_type": "markdown",
   "id": "26b4371e",
   "metadata": {},
   "source": [
    "There are so many Nan values. Hence, I will replace NaN value with mean values of each column."
   ]
  },
  {
   "cell_type": "code",
   "execution_count": 109,
   "id": "77c48613",
   "metadata": {},
   "outputs": [
    {
     "name": "stdout",
     "output_type": "stream",
     "text": [
      "<class 'pandas.core.frame.DataFrame'>\n",
      "RangeIndex: 112 entries, 0 to 111\n",
      "Data columns (total 7 columns):\n",
      " #   Column                  Non-Null Count  Dtype  \n",
      "---  ------                  --------------  -----  \n",
      " 0   Country                 112 non-null    object \n",
      " 1   Year                    112 non-null    int64  \n",
      " 2   Mental _hospitals       112 non-null    float64\n",
      " 3   health_units            112 non-null    float64\n",
      " 4   outpatient _facilities  112 non-null    float64\n",
      " 5   day _treatment          112 non-null    float64\n",
      " 6   residential_facilities  112 non-null    float64\n",
      "dtypes: float64(5), int64(1), object(1)\n",
      "memory usage: 6.2+ KB\n"
     ]
    }
   ],
   "source": [
    "#No null\n",
    "df3.info()"
   ]
  },
  {
   "cell_type": "code",
   "execution_count": 110,
   "id": "d412fbde",
   "metadata": {},
   "outputs": [
    {
     "name": "stderr",
     "output_type": "stream",
     "text": [
      "C:\\Users\\nevta\\AppData\\Local\\Temp\\ipykernel_17000\\3891983329.py:1: FutureWarning: Dropping of nuisance columns in DataFrame reductions (with 'numeric_only=None') is deprecated; in a future version this will raise TypeError.  Select only valid columns before calling the reduction.\n",
      "  df3.mean()\n"
     ]
    },
    {
     "data": {
      "text/plain": [
       "Year                      2016.000000\n",
       "Mental _hospitals            0.246133\n",
       "health_units                 0.319078\n",
       "outpatient _facilities       1.875130\n",
       "day _treatment               1.134804\n",
       "residential_facilities       0.873311\n",
       "dtype: float64"
      ]
     },
     "execution_count": 110,
     "metadata": {},
     "output_type": "execute_result"
    }
   ],
   "source": [
    "df3.mean()"
   ]
  },
  {
   "cell_type": "code",
   "execution_count": 112,
   "id": "127e7d9d",
   "metadata": {},
   "outputs": [],
   "source": [
    "df3['Mental _hospitals'] = df3['Mental _hospitals'].replace(np.nan, df3['Mental _hospitals'].mean())\n",
    "df3['health_units'] = df3['health_units'].replace(np.nan, df3['health_units'].mean())\n",
    "df3['outpatient _facilities'] = df3['outpatient _facilities'].replace(np.nan, df3['outpatient _facilities'].mean())\n",
    "df3['day _treatment'] = df3['day _treatment'].replace(np.nan, df3['day _treatment'].mean())\n",
    "df3['residential_facilities'] = df3[\"residential_facilities\"].replace(np.nan, df3[\"residential_facilities\"].mean())\n",
    "\n",
    "\n",
    "\n"
   ]
  },
  {
   "cell_type": "code",
   "execution_count": 113,
   "id": "1bbf47cc",
   "metadata": {},
   "outputs": [
    {
     "data": {
      "text/html": [
       "<div>\n",
       "<style scoped>\n",
       "    .dataframe tbody tr th:only-of-type {\n",
       "        vertical-align: middle;\n",
       "    }\n",
       "\n",
       "    .dataframe tbody tr th {\n",
       "        vertical-align: top;\n",
       "    }\n",
       "\n",
       "    .dataframe thead th {\n",
       "        text-align: right;\n",
       "    }\n",
       "</style>\n",
       "<table border=\"1\" class=\"dataframe\">\n",
       "  <thead>\n",
       "    <tr style=\"text-align: right;\">\n",
       "      <th></th>\n",
       "      <th>Country</th>\n",
       "      <th>Year</th>\n",
       "      <th>Mental _hospitals</th>\n",
       "      <th>health_units</th>\n",
       "      <th>outpatient _facilities</th>\n",
       "      <th>day _treatment</th>\n",
       "      <th>residential_facilities</th>\n",
       "    </tr>\n",
       "  </thead>\n",
       "  <tbody>\n",
       "    <tr>\n",
       "      <th>0</th>\n",
       "      <td>Afghanistan</td>\n",
       "      <td>2016</td>\n",
       "      <td>0.003000</td>\n",
       "      <td>0.012000</td>\n",
       "      <td>0.00600</td>\n",
       "      <td>1.134804</td>\n",
       "      <td>0.873311</td>\n",
       "    </tr>\n",
       "    <tr>\n",
       "      <th>1</th>\n",
       "      <td>Albania</td>\n",
       "      <td>2016</td>\n",
       "      <td>0.068000</td>\n",
       "      <td>0.068000</td>\n",
       "      <td>0.41000</td>\n",
       "      <td>1.134804</td>\n",
       "      <td>0.445000</td>\n",
       "    </tr>\n",
       "    <tr>\n",
       "      <th>2</th>\n",
       "      <td>Algeria</td>\n",
       "      <td>2016</td>\n",
       "      <td>0.048000</td>\n",
       "      <td>0.068000</td>\n",
       "      <td>0.04800</td>\n",
       "      <td>1.134804</td>\n",
       "      <td>0.873311</td>\n",
       "    </tr>\n",
       "    <tr>\n",
       "      <th>3</th>\n",
       "      <td>Angola</td>\n",
       "      <td>2016</td>\n",
       "      <td>0.011000</td>\n",
       "      <td>0.319078</td>\n",
       "      <td>1.87513</td>\n",
       "      <td>1.134804</td>\n",
       "      <td>0.014000</td>\n",
       "    </tr>\n",
       "    <tr>\n",
       "      <th>4</th>\n",
       "      <td>Antigua and Barbuda</td>\n",
       "      <td>2016</td>\n",
       "      <td>1.001000</td>\n",
       "      <td>0.319078</td>\n",
       "      <td>1.87513</td>\n",
       "      <td>1.134804</td>\n",
       "      <td>0.873311</td>\n",
       "    </tr>\n",
       "    <tr>\n",
       "      <th>...</th>\n",
       "      <td>...</td>\n",
       "      <td>...</td>\n",
       "      <td>...</td>\n",
       "      <td>...</td>\n",
       "      <td>...</td>\n",
       "      <td>...</td>\n",
       "      <td>...</td>\n",
       "    </tr>\n",
       "    <tr>\n",
       "      <th>107</th>\n",
       "      <td>Vanuatu</td>\n",
       "      <td>2016</td>\n",
       "      <td>0.246133</td>\n",
       "      <td>0.756000</td>\n",
       "      <td>2.64500</td>\n",
       "      <td>1.134804</td>\n",
       "      <td>0.873311</td>\n",
       "    </tr>\n",
       "    <tr>\n",
       "      <th>108</th>\n",
       "      <td>Viet Nam</td>\n",
       "      <td>2016</td>\n",
       "      <td>0.043000</td>\n",
       "      <td>0.017000</td>\n",
       "      <td>0.00900</td>\n",
       "      <td>1.134804</td>\n",
       "      <td>0.873311</td>\n",
       "    </tr>\n",
       "    <tr>\n",
       "      <th>109</th>\n",
       "      <td>Yemen</td>\n",
       "      <td>2016</td>\n",
       "      <td>0.033000</td>\n",
       "      <td>0.026000</td>\n",
       "      <td>0.06300</td>\n",
       "      <td>1.134804</td>\n",
       "      <td>0.873311</td>\n",
       "    </tr>\n",
       "    <tr>\n",
       "      <th>110</th>\n",
       "      <td>Zambia</td>\n",
       "      <td>2016</td>\n",
       "      <td>0.062000</td>\n",
       "      <td>0.062000</td>\n",
       "      <td>0.20500</td>\n",
       "      <td>1.134804</td>\n",
       "      <td>0.019000</td>\n",
       "    </tr>\n",
       "    <tr>\n",
       "      <th>111</th>\n",
       "      <td>Zimbabwe</td>\n",
       "      <td>2016</td>\n",
       "      <td>0.025000</td>\n",
       "      <td>0.025000</td>\n",
       "      <td>0.05700</td>\n",
       "      <td>0.006000</td>\n",
       "      <td>0.051000</td>\n",
       "    </tr>\n",
       "  </tbody>\n",
       "</table>\n",
       "<p>112 rows × 7 columns</p>\n",
       "</div>"
      ],
      "text/plain": [
       "                 Country  Year  Mental _hospitals  health_units  \\\n",
       "0            Afghanistan  2016           0.003000      0.012000   \n",
       "1                Albania  2016           0.068000      0.068000   \n",
       "2                Algeria  2016           0.048000      0.068000   \n",
       "3                 Angola  2016           0.011000      0.319078   \n",
       "4    Antigua and Barbuda  2016           1.001000      0.319078   \n",
       "..                   ...   ...                ...           ...   \n",
       "107              Vanuatu  2016           0.246133      0.756000   \n",
       "108             Viet Nam  2016           0.043000      0.017000   \n",
       "109                Yemen  2016           0.033000      0.026000   \n",
       "110               Zambia  2016           0.062000      0.062000   \n",
       "111             Zimbabwe  2016           0.025000      0.025000   \n",
       "\n",
       "     outpatient _facilities  day _treatment  residential_facilities  \n",
       "0                   0.00600        1.134804                0.873311  \n",
       "1                   0.41000        1.134804                0.445000  \n",
       "2                   0.04800        1.134804                0.873311  \n",
       "3                   1.87513        1.134804                0.014000  \n",
       "4                   1.87513        1.134804                0.873311  \n",
       "..                      ...             ...                     ...  \n",
       "107                 2.64500        1.134804                0.873311  \n",
       "108                 0.00900        1.134804                0.873311  \n",
       "109                 0.06300        1.134804                0.873311  \n",
       "110                 0.20500        1.134804                0.019000  \n",
       "111                 0.05700        0.006000                0.051000  \n",
       "\n",
       "[112 rows x 7 columns]"
      ]
     },
     "execution_count": 113,
     "metadata": {},
     "output_type": "execute_result"
    }
   ],
   "source": [
    "df3"
   ]
  },
  {
   "cell_type": "code",
   "execution_count": 114,
   "id": "2510070a",
   "metadata": {},
   "outputs": [
    {
     "name": "stderr",
     "output_type": "stream",
     "text": [
      "C:\\Users\\nevta\\AppData\\Local\\Temp\\ipykernel_17000\\3891983329.py:1: FutureWarning: Dropping of nuisance columns in DataFrame reductions (with 'numeric_only=None') is deprecated; in a future version this will raise TypeError.  Select only valid columns before calling the reduction.\n",
      "  df3.mean()\n"
     ]
    },
    {
     "data": {
      "text/plain": [
       "Year                      2016.000000\n",
       "Mental _hospitals            0.246133\n",
       "health_units                 0.319078\n",
       "outpatient _facilities       1.875130\n",
       "day _treatment               1.134804\n",
       "residential_facilities       0.873311\n",
       "dtype: float64"
      ]
     },
     "execution_count": 114,
     "metadata": {},
     "output_type": "execute_result"
    }
   ],
   "source": [
    "df3.mean()"
   ]
  },
  {
   "cell_type": "code",
   "execution_count": 115,
   "id": "fef846be",
   "metadata": {},
   "outputs": [
    {
     "name": "stderr",
     "output_type": "stream",
     "text": [
      "C:\\Users\\nevta\\AppData\\Local\\Temp\\ipykernel_17000\\3573745355.py:1: FutureWarning: Dropping of nuisance columns in DataFrame reductions (with 'numeric_only=None') is deprecated; in a future version this will raise TypeError.  Select only valid columns before calling the reduction.\n",
      "  df3.std()\n"
     ]
    },
    {
     "data": {
      "text/plain": [
       "Year                      0.000000\n",
       "Mental _hospitals         0.815217\n",
       "health_units              0.589715\n",
       "outpatient _facilities    3.048440\n",
       "day _treatment            1.829379\n",
       "residential_facilities    1.013100\n",
       "dtype: float64"
      ]
     },
     "execution_count": 115,
     "metadata": {},
     "output_type": "execute_result"
    }
   ],
   "source": [
    "df3.std()"
   ]
  },
  {
   "cell_type": "code",
   "execution_count": 116,
   "id": "8ea438c5",
   "metadata": {},
   "outputs": [
    {
     "data": {
      "image/png": "[encoded data removed]",
      "text/plain": [
       "<Figure size 360x360 with 1 Axes>"
      ]
     },
     "metadata": {
      "needs_background": "light"
     },
     "output_type": "display_data"
    }
   ],
   "source": [
    "ax=sns.displot(x=\"Mental _hospitals\",bins=20,data=df3, kde=True, color=\"blue\")"
   ]
  },
  {
   "cell_type": "code",
   "execution_count": 117,
   "id": "d514eb6c",
   "metadata": {},
   "outputs": [
    {
     "data": {
      "image/png": "[encoded data removed]",
      "text/plain": [
       "<Figure size 360x360 with 1 Axes>"
      ]
     },
     "metadata": {
      "needs_background": "light"
     },
     "output_type": "display_data"
    }
   ],
   "source": [
    "ax=sns.displot(x=\"day _treatment\", bins=20, kde=True,data=df3, color=\"black\")"
   ]
  },
  {
   "cell_type": "markdown",
   "id": "3c280901",
   "metadata": {},
   "source": []
  },
  {
   "cell_type": "code",
   "execution_count": 118,
   "id": "55a443ff",
   "metadata": {},
   "outputs": [
    {
     "data": {
      "image/png": "[encoded data removed]",
      "text/plain": [
       "<Figure size 360x360 with 1 Axes>"
      ]
     },
     "metadata": {
      "needs_background": "light"
     },
     "output_type": "display_data"
    }
   ],
   "source": [
    "ax=sns.displot(x=\"health_units\", kde=True,data=df3, color=\"purple\")"
   ]
  },
  {
   "cell_type": "code",
   "execution_count": 119,
   "id": "52b4836c",
   "metadata": {},
   "outputs": [
    {
     "data": {
      "image/png": "[encoded data removed]",
      "text/plain": [
       "<Figure size 360x360 with 1 Axes>"
      ]
     },
     "metadata": {
      "needs_background": "light"
     },
     "output_type": "display_data"
    }
   ],
   "source": [
    "ax=sns.displot(x=\"outpatient _facilities\", kde=True,data=df3, color=\"green\")"
   ]
  },
  {
   "cell_type": "code",
   "execution_count": 120,
   "id": "050c74c4",
   "metadata": {},
   "outputs": [
    {
     "data": {
      "image/png": "[encoded data removed]",
      "text/plain": [
       "<Figure size 360x360 with 1 Axes>"
      ]
     },
     "metadata": {
      "needs_background": "light"
     },
     "output_type": "display_data"
    }
   ],
   "source": [
    "ax=sns.displot(x=\"residential_facilities\", kde=True,data=df3, color=\"red\")"
   ]
  },
  {
   "cell_type": "code",
   "execution_count": 121,
   "id": "5199b5f4",
   "metadata": {},
   "outputs": [
    {
     "data": {
      "image/png": "[encoded data removed]",
      "text/plain": [
       "<Figure size 432x288 with 1 Axes>"
      ]
     },
     "metadata": {
      "needs_background": "light"
     },
     "output_type": "display_data"
    }
   ],
   "source": [
    "ax=sns.scatterplot(x=\"health_units\", y=\"day _treatment\",data=df3)"
   ]
  },
  {
   "cell_type": "code",
   "execution_count": 122,
   "id": "71f659e9",
   "metadata": {},
   "outputs": [
    {
     "name": "stderr",
     "output_type": "stream",
     "text": [
      "C:\\Users\\nevta\\AppData\\Local\\Temp\\ipykernel_17000\\3573745355.py:1: FutureWarning: Dropping of nuisance columns in DataFrame reductions (with 'numeric_only=None') is deprecated; in a future version this will raise TypeError.  Select only valid columns before calling the reduction.\n",
      "  df3.std()\n"
     ]
    },
    {
     "data": {
      "text/plain": [
       "Year                      0.000000\n",
       "Mental _hospitals         0.815217\n",
       "health_units              0.589715\n",
       "outpatient _facilities    3.048440\n",
       "day _treatment            1.829379\n",
       "residential_facilities    1.013100\n",
       "dtype: float64"
      ]
     },
     "execution_count": 122,
     "metadata": {},
     "output_type": "execute_result"
    }
   ],
   "source": [
    "df3.std()"
   ]
  },
  {
   "cell_type": "code",
   "execution_count": 123,
   "id": "659a5519",
   "metadata": {},
   "outputs": [
    {
     "name": "stderr",
     "output_type": "stream",
     "text": [
      "C:\\Users\\nevta\\AppData\\Local\\Temp\\ipykernel_17000\\3131045010.py:1: FutureWarning: Dropping of nuisance columns in DataFrame reductions (with 'numeric_only=None') is deprecated; in a future version this will raise TypeError.  Select only valid columns before calling the reduction.\n",
      "  df3.median()\n"
     ]
    },
    {
     "data": {
      "text/plain": [
       "Year                      2016.000000\n",
       "Mental _hospitals            0.077000\n",
       "health_units                 0.129500\n",
       "outpatient _facilities       0.875000\n",
       "day _treatment               1.134804\n",
       "residential_facilities       0.873311\n",
       "dtype: float64"
      ]
     },
     "execution_count": 123,
     "metadata": {},
     "output_type": "execute_result"
    }
   ],
   "source": [
    "df3.median()"
   ]
  },
  {
   "cell_type": "markdown",
   "id": "ea5211c9",
   "metadata": {},
   "source": []
  },
  {
   "cell_type": "code",
   "execution_count": 124,
   "id": "e0d6b143",
   "metadata": {},
   "outputs": [
    {
     "data": {
      "text/plain": [
       "(0.1380191869765537, 0.1467167681788088)"
      ]
     },
     "execution_count": 124,
     "metadata": {},
     "output_type": "execute_result"
    }
   ],
   "source": [
    "#H0=There is no correlation between Mental hospitals and Mental health day treatment facilities.\n",
    "ax=scipy.stats.pearsonr(df3[\"Mental _hospitals\"],df3[\"day _treatment\"])\n",
    "ax\n",
    "#fail to reject the null hypothesis. Hence, there is no correlation between Mental hospitals and mental health day treatment facilities."
   ]
  },
  {
   "cell_type": "markdown",
   "id": "1cd9aeea",
   "metadata": {},
   "source": [
    "Whether There is a similarity between countries where health units and mental hospitals have a higher value than mean and suicide rates in 2016"
   ]
  },
  {
   "cell_type": "code",
   "execution_count": 125,
   "id": "1e3e86c9",
   "metadata": {},
   "outputs": [
    {
     "data": {
      "text/html": [
       "<div>\n",
       "<style scoped>\n",
       "    .dataframe tbody tr th:only-of-type {\n",
       "        vertical-align: middle;\n",
       "    }\n",
       "\n",
       "    .dataframe tbody tr th {\n",
       "        vertical-align: top;\n",
       "    }\n",
       "\n",
       "    .dataframe thead th {\n",
       "        text-align: right;\n",
       "    }\n",
       "</style>\n",
       "<table border=\"1\" class=\"dataframe\">\n",
       "  <thead>\n",
       "    <tr style=\"text-align: right;\">\n",
       "      <th></th>\n",
       "      <th>Country</th>\n",
       "    </tr>\n",
       "  </thead>\n",
       "  <tbody>\n",
       "    <tr>\n",
       "      <th>4</th>\n",
       "      <td>Antigua and Barbuda</td>\n",
       "    </tr>\n",
       "    <tr>\n",
       "      <th>5</th>\n",
       "      <td>Argentina</td>\n",
       "    </tr>\n",
       "    <tr>\n",
       "      <th>10</th>\n",
       "      <td>Belize</td>\n",
       "    </tr>\n",
       "    <tr>\n",
       "      <th>14</th>\n",
       "      <td>Brunei Darussalam</td>\n",
       "    </tr>\n",
       "    <tr>\n",
       "      <th>22</th>\n",
       "      <td>Cook Islands</td>\n",
       "    </tr>\n",
       "    <tr>\n",
       "      <th>38</th>\n",
       "      <td>Grenada</td>\n",
       "    </tr>\n",
       "    <tr>\n",
       "      <th>44</th>\n",
       "      <td>Hungary</td>\n",
       "    </tr>\n",
       "    <tr>\n",
       "      <th>45</th>\n",
       "      <td>Iceland</td>\n",
       "    </tr>\n",
       "    <tr>\n",
       "      <th>48</th>\n",
       "      <td>Ireland</td>\n",
       "    </tr>\n",
       "    <tr>\n",
       "      <th>50</th>\n",
       "      <td>Japan</td>\n",
       "    </tr>\n",
       "    <tr>\n",
       "      <th>61</th>\n",
       "      <td>Monaco</td>\n",
       "    </tr>\n",
       "    <tr>\n",
       "      <th>68</th>\n",
       "      <td>Nauru</td>\n",
       "    </tr>\n",
       "    <tr>\n",
       "      <th>70</th>\n",
       "      <td>New Zealand</td>\n",
       "    </tr>\n",
       "    <tr>\n",
       "      <th>72</th>\n",
       "      <td>Norway</td>\n",
       "    </tr>\n",
       "    <tr>\n",
       "      <th>81</th>\n",
       "      <td>Republic of Korea</td>\n",
       "    </tr>\n",
       "    <tr>\n",
       "      <th>84</th>\n",
       "      <td>Saint Lucia</td>\n",
       "    </tr>\n",
       "    <tr>\n",
       "      <th>85</th>\n",
       "      <td>Samoa</td>\n",
       "    </tr>\n",
       "    <tr>\n",
       "      <th>86</th>\n",
       "      <td>Sao Tome and Principe</td>\n",
       "    </tr>\n",
       "    <tr>\n",
       "      <th>89</th>\n",
       "      <td>Seychelles</td>\n",
       "    </tr>\n",
       "    <tr>\n",
       "      <th>105</th>\n",
       "      <td>Uruguay</td>\n",
       "    </tr>\n",
       "    <tr>\n",
       "      <th>107</th>\n",
       "      <td>Vanuatu</td>\n",
       "    </tr>\n",
       "  </tbody>\n",
       "</table>\n",
       "</div>"
      ],
      "text/plain": [
       "                   Country\n",
       "4      Antigua and Barbuda\n",
       "5                Argentina\n",
       "10                  Belize\n",
       "14       Brunei Darussalam\n",
       "22            Cook Islands\n",
       "38                 Grenada\n",
       "44                 Hungary\n",
       "45                 Iceland\n",
       "48                 Ireland\n",
       "50                   Japan\n",
       "61                  Monaco\n",
       "68                   Nauru\n",
       "70             New Zealand\n",
       "72                  Norway\n",
       "81       Republic of Korea\n",
       "84             Saint Lucia\n",
       "85                   Samoa\n",
       "86   Sao Tome and Principe\n",
       "89              Seychelles\n",
       "105                Uruguay\n",
       "107                Vanuatu"
      ]
     },
     "execution_count": 125,
     "metadata": {},
     "output_type": "execute_result"
    }
   ],
   "source": [
    "\n",
    "avghigherdf3=df3[(df3[\"health_units\"]>= 0.319078) & \n",
    "    (df3[\"Mental _hospitals\"]>= 0.246133)][[\"Country\"]]\n",
    "avghigherdf3"
   ]
  },
  {
   "cell_type": "code",
   "execution_count": 126,
   "id": "a821c2d0",
   "metadata": {},
   "outputs": [
    {
     "name": "stderr",
     "output_type": "stream",
     "text": [
      "C:\\Users\\nevta\\AppData\\Local\\Temp\\ipykernel_17000\\3390915376.py:1: FutureWarning: Dropping of nuisance columns in DataFrame reductions (with 'numeric_only=None') is deprecated; in a future version this will raise TypeError.  Select only valid columns before calling the reduction.\n",
      "  df.std()\n"
     ]
    },
    {
     "data": {
      "text/plain": [
       "2016     7.469341\n",
       "2015     7.633241\n",
       "2010     8.620174\n",
       "2000    10.378318\n",
       "dtype: float64"
      ]
     },
     "execution_count": 126,
     "metadata": {},
     "output_type": "execute_result"
    }
   ],
   "source": [
    "df.std()"
   ]
  },
  {
   "cell_type": "code",
   "execution_count": 127,
   "id": "052c07b3",
   "metadata": {},
   "outputs": [
    {
     "name": "stderr",
     "output_type": "stream",
     "text": [
      "C:\\Users\\nevta\\AppData\\Local\\Temp\\ipykernel_17000\\3698961737.py:1: FutureWarning: Dropping of nuisance columns in DataFrame reductions (with 'numeric_only=None') is deprecated; in a future version this will raise TypeError.  Select only valid columns before calling the reduction.\n",
      "  df.mean()\n"
     ]
    },
    {
     "data": {
      "text/plain": [
       "2016     9.792532\n",
       "2015     9.925683\n",
       "2010    10.544991\n",
       "2000    12.164117\n",
       "dtype: float64"
      ]
     },
     "execution_count": 127,
     "metadata": {},
     "output_type": "execute_result"
    }
   ],
   "source": [
    "df.mean()"
   ]
  },
  {
   "cell_type": "code",
   "execution_count": 128,
   "id": "fe5f92ab",
   "metadata": {},
   "outputs": [
    {
     "name": "stderr",
     "output_type": "stream",
     "text": [
      "C:\\Users\\nevta\\anaconda3\\lib\\site-packages\\seaborn\\distributions.py:2619: FutureWarning: `distplot` is a deprecated function and will be removed in a future version. Please adapt your code to use either `displot` (a figure-level function with similar flexibility) or `histplot` (an axes-level function for histograms).\n",
      "  warnings.warn(msg, FutureWarning)\n"
     ]
    },
    {
     "data": {
      "image/png": "[encoded data removed]",
      "text/plain": [
       "<Figure size 432x288 with 1 Axes>"
      ]
     },
     "metadata": {
      "needs_background": "light"
     },
     "output_type": "display_data"
    }
   ],
   "source": [
    "ax=sns.distplot(df[\"2016\"])"
   ]
  },
  {
   "cell_type": "markdown",
   "id": "8d611464",
   "metadata": {},
   "source": [
    "I just wanted to observe which countries suicide rates are higher than mean, but some countries are duplicated because of  different sexes. Hence, I will use male as I have used before because they have higher suicide rate."
   ]
  },
  {
   "cell_type": "code",
   "execution_count": 134,
   "id": "7005b617",
   "metadata": {},
   "outputs": [
    {
     "data": {
      "text/html": [
       "<div>\n",
       "<style scoped>\n",
       "    .dataframe tbody tr th:only-of-type {\n",
       "        vertical-align: middle;\n",
       "    }\n",
       "\n",
       "    .dataframe tbody tr th {\n",
       "        vertical-align: top;\n",
       "    }\n",
       "\n",
       "    .dataframe thead th {\n",
       "        text-align: right;\n",
       "    }\n",
       "</style>\n",
       "<table border=\"1\" class=\"dataframe\">\n",
       "  <thead>\n",
       "    <tr style=\"text-align: right;\">\n",
       "      <th></th>\n",
       "      <th>Country</th>\n",
       "    </tr>\n",
       "  </thead>\n",
       "  <tbody>\n",
       "    <tr>\n",
       "      <th>1</th>\n",
       "      <td>Afghanistan</td>\n",
       "    </tr>\n",
       "    <tr>\n",
       "      <th>10</th>\n",
       "      <td>Angola</td>\n",
       "    </tr>\n",
       "    <tr>\n",
       "      <th>16</th>\n",
       "      <td>Argentina</td>\n",
       "    </tr>\n",
       "    <tr>\n",
       "      <th>19</th>\n",
       "      <td>Armenia</td>\n",
       "    </tr>\n",
       "    <tr>\n",
       "      <th>21</th>\n",
       "      <td>Australia</td>\n",
       "    </tr>\n",
       "    <tr>\n",
       "      <th>...</th>\n",
       "      <td>...</td>\n",
       "    </tr>\n",
       "    <tr>\n",
       "      <th>543</th>\n",
       "      <td>Zambia</td>\n",
       "    </tr>\n",
       "    <tr>\n",
       "      <th>544</th>\n",
       "      <td>Zambia</td>\n",
       "    </tr>\n",
       "    <tr>\n",
       "      <th>546</th>\n",
       "      <td>Zimbabwe</td>\n",
       "    </tr>\n",
       "    <tr>\n",
       "      <th>547</th>\n",
       "      <td>Zimbabwe</td>\n",
       "    </tr>\n",
       "    <tr>\n",
       "      <th>548</th>\n",
       "      <td>Zimbabwe</td>\n",
       "    </tr>\n",
       "  </tbody>\n",
       "</table>\n",
       "<p>219 rows × 1 columns</p>\n",
       "</div>"
      ],
      "text/plain": [
       "         Country\n",
       "1    Afghanistan\n",
       "10        Angola\n",
       "16     Argentina\n",
       "19       Armenia\n",
       "21     Australia\n",
       "..           ...\n",
       "543       Zambia\n",
       "544       Zambia\n",
       "546     Zimbabwe\n",
       "547     Zimbabwe\n",
       "548     Zimbabwe\n",
       "\n",
       "[219 rows x 1 columns]"
      ]
     },
     "execution_count": 134,
     "metadata": {},
     "output_type": "execute_result"
    }
   ],
   "source": [
    "df[df[\"2016\"]>9.792532][[\"Country\"]]\n"
   ]
  },
  {
   "cell_type": "code",
   "execution_count": 130,
   "id": "8ed64e99",
   "metadata": {
    "scrolled": true
   },
   "outputs": [
    {
     "data": {
      "text/html": [
       "<div>\n",
       "<style scoped>\n",
       "    .dataframe tbody tr th:only-of-type {\n",
       "        vertical-align: middle;\n",
       "    }\n",
       "\n",
       "    .dataframe tbody tr th {\n",
       "        vertical-align: top;\n",
       "    }\n",
       "\n",
       "    .dataframe thead th {\n",
       "        text-align: right;\n",
       "    }\n",
       "</style>\n",
       "<table border=\"1\" class=\"dataframe\">\n",
       "  <thead>\n",
       "    <tr style=\"text-align: right;\">\n",
       "      <th></th>\n",
       "      <th>Country</th>\n",
       "    </tr>\n",
       "  </thead>\n",
       "  <tbody>\n",
       "    <tr>\n",
       "      <th>1</th>\n",
       "      <td>Afghanistan</td>\n",
       "    </tr>\n",
       "    <tr>\n",
       "      <th>10</th>\n",
       "      <td>Angola</td>\n",
       "    </tr>\n",
       "    <tr>\n",
       "      <th>16</th>\n",
       "      <td>Argentina</td>\n",
       "    </tr>\n",
       "    <tr>\n",
       "      <th>19</th>\n",
       "      <td>Armenia</td>\n",
       "    </tr>\n",
       "    <tr>\n",
       "      <th>22</th>\n",
       "      <td>Australia</td>\n",
       "    </tr>\n",
       "    <tr>\n",
       "      <th>...</th>\n",
       "      <td>...</td>\n",
       "    </tr>\n",
       "    <tr>\n",
       "      <th>529</th>\n",
       "      <td>Uzbekistan</td>\n",
       "    </tr>\n",
       "    <tr>\n",
       "      <th>538</th>\n",
       "      <td>Viet Nam</td>\n",
       "    </tr>\n",
       "    <tr>\n",
       "      <th>541</th>\n",
       "      <td>Yemen</td>\n",
       "    </tr>\n",
       "    <tr>\n",
       "      <th>544</th>\n",
       "      <td>Zambia</td>\n",
       "    </tr>\n",
       "    <tr>\n",
       "      <th>547</th>\n",
       "      <td>Zimbabwe</td>\n",
       "    </tr>\n",
       "  </tbody>\n",
       "</table>\n",
       "<p>125 rows × 1 columns</p>\n",
       "</div>"
      ],
      "text/plain": [
       "         Country\n",
       "1    Afghanistan\n",
       "10        Angola\n",
       "16     Argentina\n",
       "19       Armenia\n",
       "22     Australia\n",
       "..           ...\n",
       "529   Uzbekistan\n",
       "538     Viet Nam\n",
       "541        Yemen\n",
       "544       Zambia\n",
       "547     Zimbabwe\n",
       "\n",
       "[125 rows x 1 columns]"
      ]
     },
     "execution_count": 130,
     "metadata": {},
     "output_type": "execute_result"
    }
   ],
   "source": [
    "avghigherdf=df[(df[\"2016\"]>9.792532) & (df[\"Sex\"]==\"Male\")][[\"Country\"]]\n",
    "avghigherdf"
   ]
  },
  {
   "cell_type": "code",
   "execution_count": 131,
   "id": "cf42c45a",
   "metadata": {},
   "outputs": [
    {
     "data": {
      "text/plain": [
       "{'Afghanistan': 0,\n",
       " 'Angola': 1,\n",
       " 'Argentina': 126,\n",
       " 'Armenia': 3,\n",
       " 'Australia': 4,\n",
       " 'Austria': 5,\n",
       " 'Belarus': 6,\n",
       " 'Belgium': 7,\n",
       " 'Belize': 127,\n",
       " 'Benin': 9,\n",
       " 'Bhutan': 10,\n",
       " 'Bolivia (Plurinational State of)': 11,\n",
       " 'Bosnia and Herzegovina': 12,\n",
       " 'Botswana': 13,\n",
       " 'Bulgaria': 14,\n",
       " 'Burkina Faso': 15,\n",
       " 'Burundi': 16,\n",
       " 'Cabo Verde': 17,\n",
       " 'Cameroon': 18,\n",
       " 'Canada': 19,\n",
       " 'Central African Republic': 20,\n",
       " 'Chad': 21,\n",
       " 'Chile': 22,\n",
       " 'Colombia': 23,\n",
       " 'Comoros': 24,\n",
       " 'Congo': 25,\n",
       " 'Costa Rica': 26,\n",
       " \"Côte d'Ivoire\": 27,\n",
       " 'Croatia': 28,\n",
       " 'Cuba': 29,\n",
       " 'Czechia': 30,\n",
       " \"Democratic People's Republic of Korea\": 31,\n",
       " 'Democratic Republic of the Congo': 32,\n",
       " 'Denmark': 33,\n",
       " 'Djibouti': 34,\n",
       " 'Dominican Republic': 35,\n",
       " 'Ecuador': 36,\n",
       " 'El Salvador': 37,\n",
       " 'Equatorial Guinea': 38,\n",
       " 'Eritrea': 39,\n",
       " 'Estonia': 40,\n",
       " 'Eswatini': 41,\n",
       " 'Ethiopia': 42,\n",
       " 'Finland': 43,\n",
       " 'France': 44,\n",
       " 'Gabon': 45,\n",
       " 'Gambia': 46,\n",
       " 'Georgia': 47,\n",
       " 'Germany': 48,\n",
       " 'Ghana': 49,\n",
       " 'Guinea': 50,\n",
       " 'Guyana': 51,\n",
       " 'Haiti': 52,\n",
       " 'Hungary': 131,\n",
       " 'Iceland': 132,\n",
       " 'India': 55,\n",
       " 'Ireland': 133,\n",
       " 'Japan': 134,\n",
       " 'Kazakhstan': 58,\n",
       " 'Kiribati': 59,\n",
       " 'Kyrgyzstan': 60,\n",
       " \"Lao People's Democratic Republic\": 61,\n",
       " 'Latvia': 62,\n",
       " 'Lesotho': 63,\n",
       " 'Liberia': 64,\n",
       " 'Lithuania': 65,\n",
       " 'Luxembourg': 66,\n",
       " 'Madagascar': 67,\n",
       " 'Malawi': 68,\n",
       " 'Mali': 69,\n",
       " 'Malta': 70,\n",
       " 'Mauritania': 71,\n",
       " 'Mauritius': 72,\n",
       " 'Micronesia (Federated States of)': 73,\n",
       " 'Mongolia': 74,\n",
       " 'Montenegro': 75,\n",
       " 'Mozambique': 76,\n",
       " 'Namibia': 77,\n",
       " 'Nepal': 78,\n",
       " 'Netherlands': 79,\n",
       " 'New Zealand': 137,\n",
       " 'Nicaragua': 81,\n",
       " 'Niger': 82,\n",
       " 'Nigeria': 83,\n",
       " 'Norway': 138,\n",
       " 'Papua New Guinea': 85,\n",
       " 'Paraguay': 86,\n",
       " 'Poland': 87,\n",
       " 'Portugal': 88,\n",
       " 'Republic of Korea': 139,\n",
       " 'Republic of Moldova': 90,\n",
       " 'Romania': 91,\n",
       " 'Russian Federation': 92,\n",
       " 'Rwanda': 93,\n",
       " 'Saint Lucia': 140,\n",
       " 'Senegal': 95,\n",
       " 'Serbia': 96,\n",
       " 'Seychelles': 143,\n",
       " 'Sierra Leone': 98,\n",
       " 'Singapore': 99,\n",
       " 'Slovakia': 100,\n",
       " 'Slovenia': 101,\n",
       " 'Somalia': 102,\n",
       " 'South Africa': 103,\n",
       " 'Sri Lanka': 104,\n",
       " 'Sudan': 105,\n",
       " 'Suriname': 106,\n",
       " 'Sweden': 107,\n",
       " 'Switzerland': 108,\n",
       " 'Thailand': 109,\n",
       " 'Togo': 110,\n",
       " 'Trinidad and Tobago': 111,\n",
       " 'Turkey': 112,\n",
       " 'Turkmenistan': 113,\n",
       " 'Uganda': 114,\n",
       " 'Ukraine': 115,\n",
       " 'United Kingdom of Great Britain and Northern Ireland': 116,\n",
       " 'United Republic of Tanzania': 117,\n",
       " 'United States of America': 118,\n",
       " 'Uruguay': 144,\n",
       " 'Uzbekistan': 120,\n",
       " 'Viet Nam': 121,\n",
       " 'Yemen': 122,\n",
       " 'Zambia': 123,\n",
       " 'Zimbabwe': 124,\n",
       " 'Antigua and Barbuda': 125,\n",
       " 'Brunei Darussalam': 128,\n",
       " 'Cook Islands': 129,\n",
       " 'Grenada': 130,\n",
       " 'Monaco': 135,\n",
       " 'Nauru': 136,\n",
       " 'Samoa': 141,\n",
       " 'Sao Tome and Principe': 142,\n",
       " 'Vanuatu': 145}"
      ]
     },
     "execution_count": 131,
     "metadata": {},
     "output_type": "execute_result"
    }
   ],
   "source": [
    "a=list(avghigherdf[\"Country\"])\n",
    "b=list(avghigherdf3[\"Country\"])\n",
    "c=a+b\n",
    "list1=c\n",
    "mapping={}\n",
    "for i, v in enumerate(list1):\n",
    "    mapping[v]=i\n",
    "mapping\n",
    "\n",
    "\n",
    "\n"
   ]
  },
  {
   "cell_type": "markdown",
   "id": "86d0d38d",
   "metadata": {},
   "source": [
    "I will try to  find whether there is a similarity in countries between two. When we merge two sets there are 146 data in our dictionary. When we delete duplicate one and count how many data we have, we understand how many data is duplicated.Duplicated means that one who is included in two datasets."
   ]
  },
  {
   "cell_type": "code",
   "execution_count": 132,
   "id": "6037112e",
   "metadata": {},
   "outputs": [
    {
     "name": "stdout",
     "output_type": "stream",
     "text": [
      "146\n"
     ]
    }
   ],
   "source": [
    "count=0\n",
    "empty=[]\n",
    "for i in c:\n",
    "    if i not in empty:\n",
    "        count=count + 1\n",
    "print(count)"
   ]
  },
  {
   "cell_type": "markdown",
   "id": "d121b4f8",
   "metadata": {},
   "source": [
    "There is no similarity between suicide rates and health units and mental hospitals in terms of countries because no data is duplicated."
   ]
  },
  {
   "cell_type": "code",
   "execution_count": null,
   "id": "725b99d5",
   "metadata": {},
   "outputs": [],
   "source": []
  }
 ],
 "metadata": {
  "kernelspec": {
   "display_name": "Python 3 (ipykernel)",
   "language": "python",
   "name": "python3"
  },
  "language_info": {
   "codemirror_mode": {
    "name": "ipython",
    "version": 3
   },
   "file_extension": ".py",
   "mimetype": "text/x-python",
   "name": "python",
   "nbconvert_exporter": "python",
   "pygments_lexer": "ipython3",
   "version": "3.9.12"
  }
 },
 "nbformat": 4,
 "nbformat_minor": 5
}
